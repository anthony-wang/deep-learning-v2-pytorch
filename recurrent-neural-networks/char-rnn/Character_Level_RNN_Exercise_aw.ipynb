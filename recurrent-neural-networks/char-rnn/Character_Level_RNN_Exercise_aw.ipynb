{
 "cells": [
  {
   "cell_type": "markdown",
   "metadata": {},
   "source": [
    "# Character-Level LSTM in PyTorch\n",
    "\n",
    "In this notebook, I'll construct a character-level LSTM with PyTorch. The network will train character by character on some text, then generate new text character by character. As an example, I will train on Anna Karenina. **This model will be able to generate new text based on the text from the book!**\n",
    "\n",
    "This network is based off of Andrej Karpathy's [post on RNNs](http://karpathy.github.io/2015/05/21/rnn-effectiveness/) and [implementation in Torch](https://github.com/karpathy/char-rnn). Below is the general architecture of the character-wise RNN.\n",
    "\n",
    "<img src=\"assets/charseq.jpeg\" width=\"500\">"
   ]
  },
  {
   "cell_type": "markdown",
   "metadata": {},
   "source": [
    "First let's load in our required resources for data loading and model creation."
   ]
  },
  {
   "cell_type": "code",
   "execution_count": 2,
   "metadata": {},
   "outputs": [],
   "source": [
    "import numpy as np\n",
    "import torch\n",
    "from torch import nn\n",
    "import torch.nn.functional as F"
   ]
  },
  {
   "cell_type": "markdown",
   "metadata": {},
   "source": [
    "## Load in Data\n",
    "\n",
    "Then, we'll load the Anna Karenina text file and convert it into integers for our network to use. "
   ]
  },
  {
   "cell_type": "code",
   "execution_count": 3,
   "metadata": {},
   "outputs": [],
   "source": [
    "# open text file and read in data as `text`\n",
    "with open('data/anna.txt', 'r') as f:\n",
    "    text = f.read()"
   ]
  },
  {
   "cell_type": "markdown",
   "metadata": {},
   "source": [
    "Let's check out the first 100 characters, make sure everything is peachy. According to the [American Book Review](http://americanbookreview.org/100bestlines.asp), this is the 6th best first line of a book ever."
   ]
  },
  {
   "cell_type": "code",
   "execution_count": 4,
   "metadata": {},
   "outputs": [
    {
     "data": {
      "text/plain": [
       "'Chapter 1\\n\\n\\nHappy families are all alike; every unhappy family is unhappy in its own\\nway.\\n\\nEverythin'"
      ]
     },
     "execution_count": 4,
     "metadata": {},
     "output_type": "execute_result"
    }
   ],
   "source": [
    "text[:100]"
   ]
  },
  {
   "cell_type": "markdown",
   "metadata": {},
   "source": [
    "### Tokenization\n",
    "\n",
    "In the cells, below, I'm creating a couple **dictionaries** to convert the characters to and from integers. Encoding the characters as integers makes it easier to use as input in the network."
   ]
  },
  {
   "cell_type": "code",
   "execution_count": 5,
   "metadata": {},
   "outputs": [],
   "source": [
    "# encode the text and map each character to an integer and vice versa\n",
    "\n",
    "# we create two dictionaries:\n",
    "# 1. int2char, which maps integers to characters\n",
    "# 2. char2int, which maps characters to unique integers\n",
    "chars = tuple(set(text))\n",
    "int2char = dict(enumerate(chars))\n",
    "char2int = {ch: ii for ii, ch in int2char.items()}\n",
    "\n",
    "# encode the text\n",
    "encoded = np.array([char2int[ch] for ch in text])"
   ]
  },
  {
   "cell_type": "markdown",
   "metadata": {},
   "source": [
    "And we can see those same characters from above, encoded as integers."
   ]
  },
  {
   "cell_type": "code",
   "execution_count": 6,
   "metadata": {},
   "outputs": [
    {
     "data": {
      "text/plain": [
       "array([38,  6, 55, 54, 36, 76, 23, 81, 64, 61, 61, 61,  4, 55, 54, 54, 22,\n",
       "       81, 40, 55, 66, 21, 53, 21, 76, 42, 81, 55, 23, 76, 81, 55, 53, 53,\n",
       "       81, 55, 53, 21,  5, 76, 27, 81, 76, 17, 76, 23, 22, 81,  7, 65,  6,\n",
       "       55, 54, 54, 22, 81, 40, 55, 66, 21, 53, 22, 81, 21, 42, 81,  7, 65,\n",
       "        6, 55, 54, 54, 22, 81, 21, 65, 81, 21, 36, 42, 81, 71, 67, 65, 61,\n",
       "       67, 55, 22,  8, 61, 61, 77, 17, 76, 23, 22, 36,  6, 21, 65])"
      ]
     },
     "execution_count": 6,
     "metadata": {},
     "output_type": "execute_result"
    }
   ],
   "source": [
    "encoded[:100]"
   ]
  },
  {
   "cell_type": "code",
   "execution_count": 25,
   "metadata": {},
   "outputs": [
    {
     "data": {
      "text/plain": [
       "array(['C', 'h', 'a', 'p', 't', 'e', 'r', ' ', '1', '\\n', '\\n', '\\n', 'H',\n",
       "       'a', 'p', 'p', 'y', ' ', 'f', 'a', 'm', 'i', 'l', 'i', 'e', 's',\n",
       "       ' ', 'a', 'r', 'e', ' ', 'a', 'l', 'l', ' ', 'a', 'l', 'i', 'k',\n",
       "       'e', ';', ' ', 'e', 'v', 'e', 'r', 'y', ' ', 'u', 'n', 'h', 'a',\n",
       "       'p', 'p', 'y', ' ', 'f', 'a', 'm', 'i', 'l', 'y', ' ', 'i', 's',\n",
       "       ' ', 'u', 'n', 'h', 'a', 'p', 'p', 'y', ' ', 'i', 'n', ' ', 'i',\n",
       "       't', 's', ' ', 'o', 'w', 'n', '\\n', 'w', 'a', 'y', '.', '\\n', '\\n',\n",
       "       'E', 'v', 'e', 'r', 'y', 't', 'h', 'i', 'n'], \n",
       "      dtype='<U1')"
      ]
     },
     "execution_count": 25,
     "metadata": {},
     "output_type": "execute_result"
    }
   ],
   "source": [
    "decoded = np.array([int2char[idx] for idx in encoded])\n",
    "decoded[:100]"
   ]
  },
  {
   "cell_type": "markdown",
   "metadata": {},
   "source": [
    "## Pre-processing the data\n",
    "\n",
    "As you can see in our char-RNN image above, our LSTM expects an input that is **one-hot encoded** meaning that each character is converted into an integer (via our created dictionary) and *then* converted into a column vector where only it's corresponding integer index will have the value of 1 and the rest of the vector will be filled with 0's. Since we're one-hot encoding the data, let's make a function to do that!\n"
   ]
  },
  {
   "cell_type": "code",
   "execution_count": 26,
   "metadata": {},
   "outputs": [],
   "source": [
    "def one_hot_encode(arr, n_labels):\n",
    "    \n",
    "    # Initialize the the encoded array\n",
    "    one_hot = np.zeros((np.multiply(*arr.shape), n_labels), dtype=np.float32)\n",
    "    \n",
    "    # Fill the appropriate elements with ones\n",
    "    one_hot[np.arange(one_hot.shape[0]), arr.flatten()] = 1.\n",
    "    \n",
    "    # Finally reshape it to get back to the original array\n",
    "    one_hot = one_hot.reshape((*arr.shape, n_labels))\n",
    "    \n",
    "    return one_hot"
   ]
  },
  {
   "cell_type": "code",
   "execution_count": 27,
   "metadata": {},
   "outputs": [
    {
     "name": "stdout",
     "output_type": "stream",
     "text": [
      "[[[ 0.  0.  0.  1.  0.  0.  0.  0.]\n",
      "  [ 0.  0.  0.  0.  0.  1.  0.  0.]\n",
      "  [ 0.  1.  0.  0.  0.  0.  0.  0.]]]\n"
     ]
    }
   ],
   "source": [
    "# check that the function works as expected\n",
    "test_seq = np.array([[3, 5, 1]])\n",
    "one_hot = one_hot_encode(test_seq, 8)\n",
    "\n",
    "print(one_hot)"
   ]
  },
  {
   "cell_type": "markdown",
   "metadata": {},
   "source": [
    "## Making training mini-batches\n",
    "\n",
    "\n",
    "To train on this data, we also want to create mini-batches for training. Remember that we want our batches to be multiple sequences of some desired number of sequence steps. Considering a simple example, our batches would look like this:\n",
    "\n",
    "<img src=\"assets/sequence_batching@1x.png\" width=500px>\n",
    "\n",
    "\n",
    "<br>\n",
    "\n",
    "In this example, we'll take the encoded characters (passed in as the `arr` parameter) and split them into multiple sequences, given by `batch_size`. Each of our sequences will be `seq_length` long.\n",
    "\n",
    "### Creating Batches\n",
    "\n",
    "**1. The first thing we need to do is discard some of the text so we only have completely full mini-batches.**\n",
    "\n",
    "Each batch contains $N \\times M$ characters, where $N$ is the batch size (the number of sequences in a batch) and $M$ is the `seq_length` or number of time steps in a sequence. Then, to get the total number of batches, $K$, that we can make from the array `arr`, you divide the length of `arr` by the number of characters per batch. Once you know the number of batches, you can get the total number of characters to keep from `arr`, $N * M * K$.\n",
    "\n",
    "**2. After that, we need to split `arr` into $N$ batches.** \n",
    "\n",
    "You can do this using `arr.reshape(size)` where `size` is a tuple containing the dimensions sizes of the reshaped array. We know we want $N$ sequences in a batch, so let's make that the size of the first dimension. For the second dimension, you can use `-1` as a placeholder in the size, it'll fill up the array with the appropriate data for you. After this, you should have an array that is $N \\times (M * K)$.\n",
    "\n",
    "**3. Now that we have this array, we can iterate through it to get our mini-batches.**\n",
    "\n",
    "The idea is each batch is a $N \\times M$ window on the $N \\times (M * K)$ array. For each subsequent batch, the window moves over by `seq_length`. We also want to create both the input and target arrays. Remember that the targets are just the inputs shifted over by one character. The way I like to do this window is use `range` to take steps of size `n_steps` from $0$ to `arr.shape[1]`, the total number of tokens in each sequence. That way, the integers you get from `range` always point to the start of a batch, and each window is `seq_length` wide.\n",
    "\n",
    "> **TODO:** Write the code for creating batches in the function below. The exercises in this notebook _will not be easy_. I've provided a notebook with solutions alongside this notebook. If you get stuck, checkout the solutions. The most important thing is that you don't copy and paste the code into here, **type out the solution code yourself.**"
   ]
  },
  {
   "cell_type": "code",
   "execution_count": 42,
   "metadata": {},
   "outputs": [],
   "source": [
    "def get_batches(arr, batch_size, seq_length):\n",
    "    '''Create a generator that returns batches of size\n",
    "       batch_size x seq_length from arr.\n",
    "       \n",
    "       Arguments\n",
    "       ---------\n",
    "       arr: Array you want to make batches from\n",
    "       batch_size: Batch size, the number of sequences per batch\n",
    "       seq_length: Number of encoded chars in a sequence\n",
    "    '''\n",
    "    len_array = len(arr)\n",
    "    \n",
    "    ## TODO: Get the number of batches we can make\n",
    "    n_batches = len_array // (batch_size * seq_length)\n",
    "    \n",
    "    ## TODO: Keep only enough characters to make full batches\n",
    "    arr = arr[:n_batches * seq_length * batch_size]\n",
    "    \n",
    "    ## TODO: Reshape into batch_size rows\n",
    "    arr = arr.reshape(batch_size, -1)\n",
    "       \n",
    "    ## TODO: Iterate over the batches using a window of size seq_length\n",
    "    for n in range(0, arr.shape[1], seq_length):\n",
    "        # The features\n",
    "        x = arr[:, n:n+seq_length]\n",
    "        # The targets, shifted by one\n",
    "        y = np.zeros_like(x)\n",
    "        try:\n",
    "            y[:, :-1], y[:, -1] = x[:, 1:], arr[:, n+seq_length]\n",
    "        except IndexError:\n",
    "            y[:, :-1], y[:, -1] = x[:, 1:], arr[:, 0]\n",
    "        yield x, y"
   ]
  },
  {
   "cell_type": "markdown",
   "metadata": {},
   "source": [
    "### Test Your Implementation\n",
    "\n",
    "Now I'll make some data sets and we can check out what's going on as we batch data. Here, as an example, I'm going to use a batch size of 8 and 50 sequence steps."
   ]
  },
  {
   "cell_type": "code",
   "execution_count": 43,
   "metadata": {},
   "outputs": [],
   "source": [
    "batches = get_batches(encoded, 8, 50)\n",
    "x, y = next(batches)"
   ]
  },
  {
   "cell_type": "code",
   "execution_count": 44,
   "metadata": {},
   "outputs": [
    {
     "name": "stdout",
     "output_type": "stream",
     "text": [
      "x\n",
      " [[38  6 55 54 36 76 23 81 64 61]\n",
      " [42 71 65 81 36  6 55 36 81 55]\n",
      " [76 65 31 81 71 23 81 55 81 40]\n",
      " [42 81 36  6 76 81 33  6 21 76]\n",
      " [81 42 55 67 81  6 76 23 81 36]\n",
      " [33  7 42 42 21 71 65 81 55 65]\n",
      " [81 59 65 65 55 81  6 55 31 81]\n",
      " [20 49 53 71 65 42  5 22  8 81]]\n",
      "\n",
      "y\n",
      " [[ 6 55 54 36 76 23 81 64 61 61]\n",
      " [71 65 81 36  6 55 36 81 55 36]\n",
      " [65 31 81 71 23 81 55 81 40 71]\n",
      " [81 36  6 76 81 33  6 21 76 40]\n",
      " [42 55 67 81  6 76 23 81 36 76]\n",
      " [ 7 42 42 21 71 65 81 55 65 31]\n",
      " [59 65 65 55 81  6 55 31 81 42]\n",
      " [49 53 71 65 42  5 22  8 81 24]]\n"
     ]
    }
   ],
   "source": [
    "# printing out the first 10 items in a sequence\n",
    "print('x\\n', x[:10, :10])\n",
    "print('\\ny\\n', y[:10, :10])"
   ]
  },
  {
   "cell_type": "markdown",
   "metadata": {},
   "source": [
    "If you implemented `get_batches` correctly, the above output should look something like \n",
    "```\n",
    "x\n",
    " [[25  8 60 11 45 27 28 73  1  2]\n",
    " [17  7 20 73 45  8 60 45 73 60]\n",
    " [27 20 80 73  7 28 73 60 73 65]\n",
    " [17 73 45  8 27 73 66  8 46 27]\n",
    " [73 17 60 12 73  8 27 28 73 45]\n",
    " [66 64 17 17 46  7 20 73 60 20]\n",
    " [73 76 20 20 60 73  8 60 80 73]\n",
    " [47 35 43  7 20 17 24 50 37 73]]\n",
    "\n",
    "y\n",
    " [[ 8 60 11 45 27 28 73  1  2  2]\n",
    " [ 7 20 73 45  8 60 45 73 60 45]\n",
    " [20 80 73  7 28 73 60 73 65  7]\n",
    " [73 45  8 27 73 66  8 46 27 65]\n",
    " [17 60 12 73  8 27 28 73 45 27]\n",
    " [64 17 17 46  7 20 73 60 20 80]\n",
    " [76 20 20 60 73  8 60 80 73 17]\n",
    " [35 43  7 20 17 24 50 37 73 36]]\n",
    " ```\n",
    " although the exact numbers may be different. Check to make sure the data is shifted over one step for `y`."
   ]
  },
  {
   "cell_type": "markdown",
   "metadata": {},
   "source": [
    "---\n",
    "## Defining the network with PyTorch\n",
    "\n",
    "Below is where you'll define the network.\n",
    "\n",
    "<img src=\"assets/charRNN.png\" width=500px>\n",
    "\n",
    "Next, you'll use PyTorch to define the architecture of the network. We start by defining the layers and operations we want. Then, define a method for the forward pass. You've also been given a method for predicting characters."
   ]
  },
  {
   "cell_type": "markdown",
   "metadata": {},
   "source": [
    "### Model Structure\n",
    "\n",
    "In `__init__` the suggested structure is as follows:\n",
    "* Create and store the necessary dictionaries (this has been done for you)\n",
    "* Define an LSTM layer that takes as params: an input size (the number of characters), a hidden layer size `n_hidden`, a number of layers `n_layers`, a dropout probability `drop_prob`, and a batch_first boolean (True, since we are batching)\n",
    "* Define a dropout layer with `dropout_prob`\n",
    "* Define a fully-connected layer with params: input size `n_hidden` and output size (the number of characters)\n",
    "* Finally, initialize the weights (again, this has been given)\n",
    "\n",
    "Note that some parameters have been named and given in the `__init__` function, and we use them and store them by doing something like `self.drop_prob = drop_prob`."
   ]
  },
  {
   "cell_type": "markdown",
   "metadata": {},
   "source": [
    "---\n",
    "### LSTM Inputs/Outputs\n",
    "\n",
    "You can create a basic [LSTM layer](https://pytorch.org/docs/stable/nn.html#lstm) as follows\n",
    "\n",
    "```python\n",
    "self.lstm = nn.LSTM(input_size, n_hidden, n_layers, \n",
    "                            dropout=drop_prob, batch_first=True)\n",
    "```\n",
    "\n",
    "where `input_size` is the number of characters this cell expects to see as sequential input, and `n_hidden` is the number of units in the hidden layers in the cell. And we can add dropout by adding a dropout parameter with a specified probability; this will automatically add dropout to the inputs or outputs. Finally, in the `forward` function, we can stack up the LSTM cells into layers using `.view`. With this, you pass in a list of cells and it will send the output of one cell into the next cell.\n",
    "\n",
    "We also need to create an initial hidden state of all zeros. This is done like so\n",
    "\n",
    "```python\n",
    "self.init_hidden()\n",
    "```"
   ]
  },
  {
   "cell_type": "code",
   "execution_count": 45,
   "metadata": {},
   "outputs": [
    {
     "name": "stdout",
     "output_type": "stream",
     "text": [
      "Training on GPU!\n"
     ]
    }
   ],
   "source": [
    "# check if GPU is available\n",
    "train_on_gpu = torch.cuda.is_available()\n",
    "if(train_on_gpu):\n",
    "    print('Training on GPU!')\n",
    "else: \n",
    "    print('No GPU available, training on CPU; consider making n_epochs very small.')"
   ]
  },
  {
   "cell_type": "code",
   "execution_count": 46,
   "metadata": {},
   "outputs": [],
   "source": [
    "class CharRNN(nn.Module):\n",
    "    def __init__(self, tokens, n_hidden=256, n_layers=2,\n",
    "                 drop_prob=0.5, lr=0.001):\n",
    "        super().__init__()\n",
    "        self.drop_prob = drop_prob\n",
    "        self.n_layers = n_layers\n",
    "        self.n_hidden = n_hidden\n",
    "        self.lr = lr\n",
    "        \n",
    "        # creating character dictionaries\n",
    "        self.chars = tokens\n",
    "        self.int2char = dict(enumerate(self.chars))\n",
    "        self.char2int = {ch: ii for ii, ch in self.int2char.items()}\n",
    "        \n",
    "        ## TODO: define the layers of the model\n",
    "        self.lstm = nn.LSTM(input_size=len(self.chars),\n",
    "                            hidden_size=self.n_hidden,\n",
    "                            num_layers=self.n_layers, \n",
    "                            dropout=self.drop_prob,\n",
    "                            batch_first=True)\n",
    "        \n",
    "        self.dropout = nn.Dropout(self.drop_prob)\n",
    "        \n",
    "        self.fc = nn.Linear(self.n_hidden, len(self.chars))\n",
    "      \n",
    "    \n",
    "    def forward(self, x, hidden):\n",
    "        ''' Forward pass through the network. \n",
    "            These inputs are x, and the hidden/cell state `hidden`. '''\n",
    "        \n",
    "        ## TODO: Get the outputs and the new hidden state from the lstm\n",
    "        r_out, hidden = self.lstm(x, hidden)\n",
    "        \n",
    "        out = self.dropout(r_out)\n",
    "        out = out.contiguous().view(-1, self.n_hidden)\n",
    "        \n",
    "        out = self.fc(out)\n",
    "        \n",
    "        # return the final output and the hidden state\n",
    "        return out, hidden\n",
    "    \n",
    "    \n",
    "    def init_hidden(self, batch_size):\n",
    "        ''' Initializes hidden state '''\n",
    "        # Create two new tensors with sizes n_layers x batch_size x n_hidden,\n",
    "        # initialized to zero, for hidden state and cell state of LSTM\n",
    "        weight = next(self.parameters()).data\n",
    "        \n",
    "        if (train_on_gpu):\n",
    "            hidden = (weight.new(self.n_layers, batch_size, self.n_hidden).zero_().cuda(),\n",
    "                  weight.new(self.n_layers, batch_size, self.n_hidden).zero_().cuda())\n",
    "        else:\n",
    "            hidden = (weight.new(self.n_layers, batch_size, self.n_hidden).zero_(),\n",
    "                      weight.new(self.n_layers, batch_size, self.n_hidden).zero_())\n",
    "        \n",
    "        return hidden\n",
    "        "
   ]
  },
  {
   "cell_type": "markdown",
   "metadata": {},
   "source": [
    "## Time to train\n",
    "\n",
    "The train function gives us the ability to set the number of epochs, the learning rate, and other parameters.\n",
    "\n",
    "Below we're using an Adam optimizer and cross entropy loss since we are looking at character class scores as output. We calculate the loss and perform backpropagation, as usual!\n",
    "\n",
    "A couple of details about training: \n",
    ">* Within the batch loop, we detach the hidden state from its history; this time setting it equal to a new *tuple* variable because an LSTM has a hidden state that is a tuple of the hidden and cell states.\n",
    "* We use [`clip_grad_norm_`](https://pytorch.org/docs/stable/_modules/torch/nn/utils/clip_grad.html) to help prevent exploding gradients."
   ]
  },
  {
   "cell_type": "code",
   "execution_count": 47,
   "metadata": {},
   "outputs": [],
   "source": [
    "def train(net, data, epochs=10, batch_size=10, seq_length=50, lr=0.001, clip=5, val_frac=0.1, print_every=10):\n",
    "    ''' Training a network \n",
    "    \n",
    "        Arguments\n",
    "        ---------\n",
    "        \n",
    "        net: CharRNN network\n",
    "        data: text data to train the network\n",
    "        epochs: Number of epochs to train\n",
    "        batch_size: Number of mini-sequences per mini-batch, aka batch size\n",
    "        seq_length: Number of character steps per mini-batch\n",
    "        lr: learning rate\n",
    "        clip: gradient clipping\n",
    "        val_frac: Fraction of data to hold out for validation\n",
    "        print_every: Number of steps for printing training and validation loss\n",
    "    \n",
    "    '''\n",
    "    net.train()\n",
    "    \n",
    "    opt = torch.optim.Adam(net.parameters(), lr=lr)\n",
    "    criterion = nn.CrossEntropyLoss()\n",
    "    \n",
    "    # create training and validation data\n",
    "    val_idx = int(len(data)*(1-val_frac))\n",
    "    data, val_data = data[:val_idx], data[val_idx:]\n",
    "    \n",
    "    if(train_on_gpu):\n",
    "        net.cuda()\n",
    "    \n",
    "    counter = 0\n",
    "    n_chars = len(net.chars)\n",
    "    for e in range(epochs):\n",
    "        # initialize hidden state\n",
    "        h = net.init_hidden(batch_size)\n",
    "        \n",
    "        for x, y in get_batches(data, batch_size, seq_length):\n",
    "            counter += 1\n",
    "            \n",
    "            # One-hot encode our data and make them Torch tensors\n",
    "            x = one_hot_encode(x, n_chars)\n",
    "            inputs, targets = torch.from_numpy(x), torch.from_numpy(y)\n",
    "            \n",
    "            if(train_on_gpu):\n",
    "                inputs, targets = inputs.cuda(), targets.cuda()\n",
    "\n",
    "            # Creating new variables for the hidden state, otherwise\n",
    "            # we'd backprop through the entire training history\n",
    "            h = tuple([each.data for each in h])\n",
    "\n",
    "            # zero accumulated gradients\n",
    "            net.zero_grad()\n",
    "            \n",
    "            # get the output from the model\n",
    "            output, h = net(inputs, h)\n",
    "            \n",
    "            # calculate the loss and perform backprop\n",
    "            loss = criterion(output, targets.view(batch_size*seq_length))\n",
    "            loss.backward()\n",
    "            # `clip_grad_norm` helps prevent the exploding gradient problem in RNNs / LSTMs.\n",
    "            nn.utils.clip_grad_norm_(net.parameters(), clip)\n",
    "            opt.step()\n",
    "            \n",
    "            # loss stats\n",
    "            if counter % print_every == 0:\n",
    "                # Get validation loss\n",
    "                val_h = net.init_hidden(batch_size)\n",
    "                val_losses = []\n",
    "                net.eval()\n",
    "                for x, y in get_batches(val_data, batch_size, seq_length):\n",
    "                    # One-hot encode our data and make them Torch tensors\n",
    "                    x = one_hot_encode(x, n_chars)\n",
    "                    x, y = torch.from_numpy(x), torch.from_numpy(y)\n",
    "                    \n",
    "                    # Creating new variables for the hidden state, otherwise\n",
    "                    # we'd backprop through the entire training history\n",
    "                    val_h = tuple([each.data for each in val_h])\n",
    "                    \n",
    "                    inputs, targets = x, y\n",
    "                    if(train_on_gpu):\n",
    "                        inputs, targets = inputs.cuda(), targets.cuda()\n",
    "\n",
    "                    output, val_h = net(inputs, val_h)\n",
    "                    val_loss = criterion(output, targets.view(batch_size*seq_length))\n",
    "                \n",
    "                    val_losses.append(val_loss.item())\n",
    "                \n",
    "                net.train() # reset to train mode after iterationg through validation data\n",
    "                \n",
    "                print(\"Epoch: {}/{}...\".format(e+1, epochs),\n",
    "                      \"Step: {}...\".format(counter),\n",
    "                      \"Loss: {:.4f}...\".format(loss.item()),\n",
    "                      \"Val Loss: {:.4f}\".format(np.mean(val_losses)))"
   ]
  },
  {
   "cell_type": "markdown",
   "metadata": {},
   "source": [
    "## Instantiating the model\n",
    "\n",
    "Now we can actually train the network. First we'll create the network itself, with some given hyperparameters. Then, define the mini-batches sizes, and start training!"
   ]
  },
  {
   "cell_type": "code",
   "execution_count": 48,
   "metadata": {},
   "outputs": [
    {
     "name": "stdout",
     "output_type": "stream",
     "text": [
      "CharRNN(\n",
      "  (lstm): LSTM(83, 512, num_layers=2, batch_first=True, dropout=0.5)\n",
      "  (dropout): Dropout(p=0.5)\n",
      "  (fc): Linear(in_features=512, out_features=83, bias=True)\n",
      ")\n"
     ]
    }
   ],
   "source": [
    "## TODO: set you model hyperparameters\n",
    "# define and print the net\n",
    "n_hidden=512\n",
    "n_layers=2\n",
    "\n",
    "net = CharRNN(chars, n_hidden, n_layers)\n",
    "print(net)"
   ]
  },
  {
   "cell_type": "markdown",
   "metadata": {},
   "source": [
    "### Set your training hyperparameters!"
   ]
  },
  {
   "cell_type": "code",
   "execution_count": 49,
   "metadata": {
    "scrolled": true
   },
   "outputs": [
    {
     "name": "stdout",
     "output_type": "stream",
     "text": [
      "Epoch: 1/2... Step: 10... Loss: 3.2434... Val Loss: 3.1669\n",
      "Epoch: 1/2... Step: 20... Loss: 3.1617... Val Loss: 3.1328\n",
      "Epoch: 1/2... Step: 30... Loss: 3.1517... Val Loss: 3.1282\n",
      "Epoch: 1/2... Step: 40... Loss: 3.1327... Val Loss: 3.1264\n",
      "Epoch: 1/2... Step: 50... Loss: 3.1419... Val Loss: 3.1234\n",
      "Epoch: 1/2... Step: 60... Loss: 3.1342... Val Loss: 3.1238\n",
      "Epoch: 1/2... Step: 70... Loss: 3.1297... Val Loss: 3.1220\n",
      "Epoch: 1/2... Step: 80... Loss: 3.1331... Val Loss: 3.1191\n",
      "Epoch: 1/2... Step: 90... Loss: 3.0853... Val Loss: 3.1135\n",
      "Epoch: 1/2... Step: 100... Loss: 3.1075... Val Loss: 3.1015\n",
      "Epoch: 1/2... Step: 110... Loss: 3.0923... Val Loss: 3.0712\n",
      "Epoch: 1/2... Step: 120... Loss: 3.0237... Val Loss: 3.0037\n",
      "Epoch: 1/2... Step: 130... Loss: 2.9533... Val Loss: 2.9302\n",
      "Epoch: 1/2... Step: 140... Loss: 2.8658... Val Loss: 2.8488\n",
      "Epoch: 1/2... Step: 150... Loss: 2.7684... Val Loss: 2.7256\n",
      "Epoch: 1/2... Step: 160... Loss: 2.6444... Val Loss: 2.6445\n",
      "Epoch: 1/2... Step: 170... Loss: 2.5780... Val Loss: 2.5741\n",
      "Epoch: 1/2... Step: 180... Loss: 2.5328... Val Loss: 2.5159\n",
      "Epoch: 1/2... Step: 190... Loss: 2.4896... Val Loss: 2.4706\n",
      "Epoch: 1/2... Step: 200... Loss: 2.4285... Val Loss: 2.4346\n",
      "Epoch: 1/2... Step: 210... Loss: 2.4340... Val Loss: 2.4024\n",
      "Epoch: 1/2... Step: 220... Loss: 2.4195... Val Loss: 2.3896\n",
      "Epoch: 1/2... Step: 230... Loss: 2.3949... Val Loss: 2.3527\n",
      "Epoch: 1/2... Step: 240... Loss: 2.3961... Val Loss: 2.3353\n",
      "Epoch: 1/2... Step: 250... Loss: 2.2902... Val Loss: 2.3068\n",
      "Epoch: 1/2... Step: 260... Loss: 2.3099... Val Loss: 2.2882\n",
      "Epoch: 1/2... Step: 270... Loss: 2.2881... Val Loss: 2.2628\n",
      "Epoch: 1/2... Step: 280... Loss: 2.2774... Val Loss: 2.2399\n",
      "Epoch: 1/2... Step: 290... Loss: 2.2515... Val Loss: 2.2238\n",
      "Epoch: 1/2... Step: 300... Loss: 2.1765... Val Loss: 2.2043\n",
      "Epoch: 1/2... Step: 310... Loss: 2.1495... Val Loss: 2.1911\n",
      "Epoch: 1/2... Step: 320... Loss: 2.1469... Val Loss: 2.1726\n",
      "Epoch: 1/2... Step: 330... Loss: 2.1513... Val Loss: 2.1566\n",
      "Epoch: 1/2... Step: 340... Loss: 2.1403... Val Loss: 2.1463\n",
      "Epoch: 1/2... Step: 350... Loss: 2.1194... Val Loss: 2.1219\n",
      "Epoch: 1/2... Step: 360... Loss: 2.1137... Val Loss: 2.1174\n",
      "Epoch: 1/2... Step: 370... Loss: 2.0884... Val Loss: 2.1072\n",
      "Epoch: 1/2... Step: 380... Loss: 2.0529... Val Loss: 2.0864\n",
      "Epoch: 1/2... Step: 390... Loss: 2.1086... Val Loss: 2.0698\n",
      "Epoch: 1/2... Step: 400... Loss: 2.0972... Val Loss: 2.0512\n",
      "Epoch: 1/2... Step: 410... Loss: 2.0313... Val Loss: 2.0360\n",
      "Epoch: 1/2... Step: 420... Loss: 2.0639... Val Loss: 2.0324\n",
      "Epoch: 1/2... Step: 430... Loss: 2.0099... Val Loss: 2.0187\n",
      "Epoch: 2/2... Step: 440... Loss: 2.0287... Val Loss: 2.0079\n",
      "Epoch: 2/2... Step: 450... Loss: 1.9902... Val Loss: 1.9977\n",
      "Epoch: 2/2... Step: 460... Loss: 2.0095... Val Loss: 1.9782\n",
      "Epoch: 2/2... Step: 470... Loss: 2.0033... Val Loss: 1.9656\n",
      "Epoch: 2/2... Step: 480... Loss: 1.9772... Val Loss: 1.9596\n",
      "Epoch: 2/2... Step: 490... Loss: 2.0214... Val Loss: 1.9462\n",
      "Epoch: 2/2... Step: 500... Loss: 1.9614... Val Loss: 1.9400\n",
      "Epoch: 2/2... Step: 510... Loss: 1.9459... Val Loss: 1.9261\n",
      "Epoch: 2/2... Step: 520... Loss: 1.9163... Val Loss: 1.9153\n",
      "Epoch: 2/2... Step: 530... Loss: 1.8858... Val Loss: 1.9084\n",
      "Epoch: 2/2... Step: 540... Loss: 1.8586... Val Loss: 1.8982\n",
      "Epoch: 2/2... Step: 550... Loss: 1.9368... Val Loss: 1.8981\n",
      "Epoch: 2/2... Step: 560... Loss: 1.8492... Val Loss: 1.8785\n",
      "Epoch: 2/2... Step: 570... Loss: 1.8318... Val Loss: 1.8744\n",
      "Epoch: 2/2... Step: 580... Loss: 1.8920... Val Loss: 1.8649\n",
      "Epoch: 2/2... Step: 590... Loss: 1.8861... Val Loss: 1.8559\n",
      "Epoch: 2/2... Step: 600... Loss: 1.7815... Val Loss: 1.8506\n",
      "Epoch: 2/2... Step: 610... Loss: 1.8470... Val Loss: 1.8391\n",
      "Epoch: 2/2... Step: 620... Loss: 1.8202... Val Loss: 1.8292\n",
      "Epoch: 2/2... Step: 630... Loss: 1.8062... Val Loss: 1.8193\n",
      "Epoch: 2/2... Step: 640... Loss: 1.7591... Val Loss: 1.8151\n",
      "Epoch: 2/2... Step: 650... Loss: 1.8073... Val Loss: 1.8120\n",
      "Epoch: 2/2... Step: 660... Loss: 1.8188... Val Loss: 1.7980\n",
      "Epoch: 2/2... Step: 670... Loss: 1.7766... Val Loss: 1.7952\n",
      "Epoch: 2/2... Step: 680... Loss: 1.8286... Val Loss: 1.7868\n",
      "Epoch: 2/2... Step: 690... Loss: 1.7948... Val Loss: 1.7779\n",
      "Epoch: 2/2... Step: 700... Loss: 1.7857... Val Loss: 1.7712\n",
      "Epoch: 2/2... Step: 710... Loss: 1.7956... Val Loss: 1.7593\n",
      "Epoch: 2/2... Step: 720... Loss: 1.7438... Val Loss: 1.7579\n",
      "Epoch: 2/2... Step: 730... Loss: 1.7704... Val Loss: 1.7489\n",
      "Epoch: 2/2... Step: 740... Loss: 1.7524... Val Loss: 1.7443\n",
      "Epoch: 2/2... Step: 750... Loss: 1.7737... Val Loss: 1.7390\n",
      "Epoch: 2/2... Step: 760... Loss: 1.6571... Val Loss: 1.7278\n",
      "Epoch: 2/2... Step: 770... Loss: 1.7312... Val Loss: 1.7286\n",
      "Epoch: 2/2... Step: 780... Loss: 1.7006... Val Loss: 1.7245\n",
      "Epoch: 2/2... Step: 790... Loss: 1.6844... Val Loss: 1.7171\n",
      "Epoch: 2/2... Step: 800... Loss: 1.7126... Val Loss: 1.7071\n",
      "Epoch: 2/2... Step: 810... Loss: 1.6415... Val Loss: 1.7043\n",
      "Epoch: 2/2... Step: 820... Loss: 1.7171... Val Loss: 1.7016\n",
      "Epoch: 2/2... Step: 830... Loss: 1.6750... Val Loss: 1.6891\n",
      "Epoch: 2/2... Step: 840... Loss: 1.7445... Val Loss: 1.6961\n",
      "Epoch: 2/2... Step: 850... Loss: 1.7322... Val Loss: 1.6849\n",
      "Epoch: 2/2... Step: 860... Loss: 1.6733... Val Loss: 1.6804\n",
      "Epoch: 2/2... Step: 870... Loss: 1.6527... Val Loss: 1.6758\n"
     ]
    }
   ],
   "source": [
    "batch_size = 128\n",
    "seq_length = 32\n",
    "n_epochs = 2 # start small if you are just testing initial behavior\n",
    "\n",
    "# train the model\n",
    "train(net, encoded, epochs=n_epochs, batch_size=batch_size, seq_length=seq_length, lr=0.001, print_every=10)"
   ]
  },
  {
   "cell_type": "markdown",
   "metadata": {},
   "source": [
    "## Getting the best model\n",
    "\n",
    "To set your hyperparameters to get the best performance, you'll want to watch the training and validation losses. If your training loss is much lower than the validation loss, you're overfitting. Increase regularization (more dropout) or use a smaller network. If the training and validation losses are close, you're underfitting so you can increase the size of the network."
   ]
  },
  {
   "cell_type": "markdown",
   "metadata": {},
   "source": [
    "## Hyperparameters\n",
    "\n",
    "Here are the hyperparameters for the network.\n",
    "\n",
    "In defining the model:\n",
    "* `n_hidden` - The number of units in the hidden layers.\n",
    "* `n_layers` - Number of hidden LSTM layers to use.\n",
    "\n",
    "We assume that dropout probability and learning rate will be kept at the default, in this example.\n",
    "\n",
    "And in training:\n",
    "* `batch_size` - Number of sequences running through the network in one pass.\n",
    "* `seq_length` - Number of characters in the sequence the network is trained on. Larger is better typically, the network will learn more long range dependencies. But it takes longer to train. 100 is typically a good number here.\n",
    "* `lr` - Learning rate for training\n",
    "\n",
    "Here's some good advice from Andrej Karpathy on training the network. I'm going to copy it in here for your benefit, but also link to [where it originally came from](https://github.com/karpathy/char-rnn#tips-and-tricks).\n",
    "\n",
    "> ## Tips and Tricks\n",
    "\n",
    ">### Monitoring Validation Loss vs. Training Loss\n",
    ">If you're somewhat new to Machine Learning or Neural Networks it can take a bit of expertise to get good models. The most important quantity to keep track of is the difference between your training loss (printed during training) and the validation loss (printed once in a while when the RNN is run on the validation data (by default every 1000 iterations)). In particular:\n",
    "\n",
    "> - If your training loss is much lower than validation loss then this means the network might be **overfitting**. Solutions to this are to decrease your network size, or to increase dropout. For example you could try dropout of 0.5 and so on.\n",
    "> - If your training/validation loss are about equal then your model is **underfitting**. Increase the size of your model (either number of layers or the raw number of neurons per layer)\n",
    "\n",
    "> ### Approximate number of parameters\n",
    "\n",
    "> The two most important parameters that control the model are `n_hidden` and `n_layers`. I would advise that you always use `n_layers` of either 2/3. The `n_hidden` can be adjusted based on how much data you have. The two important quantities to keep track of here are:\n",
    "\n",
    "> - The number of parameters in your model. This is printed when you start training.\n",
    "> - The size of your dataset. 1MB file is approximately 1 million characters.\n",
    "\n",
    ">These two should be about the same order of magnitude. It's a little tricky to tell. Here are some examples:\n",
    "\n",
    "> - I have a 100MB dataset and I'm using the default parameter settings (which currently print 150K parameters). My data size is significantly larger (100 mil >> 0.15 mil), so I expect to heavily underfit. I am thinking I can comfortably afford to make `n_hidden` larger.\n",
    "> - I have a 10MB dataset and running a 10 million parameter model. I'm slightly nervous and I'm carefully monitoring my validation loss. If it's larger than my training loss then I may want to try to increase dropout a bit and see if that helps the validation loss.\n",
    "\n",
    "> ### Best models strategy\n",
    "\n",
    ">The winning strategy to obtaining very good models (if you have the compute time) is to always err on making the network larger (as large as you're willing to wait for it to compute) and then try different dropout values (between 0,1). Whatever model has the best validation performance (the loss, written in the checkpoint filename, low is good) is the one you should use in the end.\n",
    "\n",
    ">It is very common in deep learning to run many different models with many different hyperparameter settings, and in the end take whatever checkpoint gave the best validation performance.\n",
    "\n",
    ">By the way, the size of your training and validation splits are also parameters. Make sure you have a decent amount of data in your validation set or otherwise the validation performance will be noisy and not very informative."
   ]
  },
  {
   "cell_type": "markdown",
   "metadata": {},
   "source": [
    "## Checkpoint\n",
    "\n",
    "After training, we'll save the model so we can load it again later if we need too. Here I'm saving the parameters needed to create the same architecture, the hidden layer hyperparameters and the text characters."
   ]
  },
  {
   "cell_type": "code",
   "execution_count": 50,
   "metadata": {},
   "outputs": [],
   "source": [
    "# change the name, for saving multiple files\n",
    "model_name = f'rnn_{n_epochs}_epoch.net'\n",
    "\n",
    "checkpoint = {'n_hidden': net.n_hidden,\n",
    "              'n_layers': net.n_layers,\n",
    "              'state_dict': net.state_dict(),\n",
    "              'tokens': net.chars}\n",
    "\n",
    "with open(model_name, 'wb') as f:\n",
    "    torch.save(checkpoint, f)"
   ]
  },
  {
   "cell_type": "markdown",
   "metadata": {},
   "source": [
    "---\n",
    "## Making Predictions\n",
    "\n",
    "Now that the model is trained, we'll want to sample from it and make predictions about next characters! To sample, we pass in a character and have the network predict the next character. Then we take that character, pass it back in, and get another predicted character. Just keep doing this and you'll generate a bunch of text!\n",
    "\n",
    "### A note on the `predict`  function\n",
    "\n",
    "The output of our RNN is from a fully-connected layer and it outputs a **distribution of next-character scores**.\n",
    "\n",
    "> To actually get the next character, we apply a softmax function, which gives us a *probability* distribution that we can then sample to predict the next character.\n",
    "\n",
    "### Top K sampling\n",
    "\n",
    "Our predictions come from a categorical probability distribution over all the possible characters. We can make the sample text and make it more reasonable to handle (with less variables) by only considering some $K$ most probable characters. This will prevent the network from giving us completely absurd characters while allowing it to introduce some noise and randomness into the sampled text. Read more about topk [here](https://pytorch.org/docs/stable/generated/torch.topk.html)."
   ]
  },
  {
   "cell_type": "code",
   "execution_count": 54,
   "metadata": {},
   "outputs": [],
   "source": [
    "def predict(net, char, h=None, top_k=None):\n",
    "        ''' Given a character, predict the next character.\n",
    "            Returns the predicted character and the hidden state.\n",
    "        '''\n",
    "        \n",
    "        # tensor inputs\n",
    "        x = np.array([[net.char2int[char]]])\n",
    "        x = one_hot_encode(x, len(net.chars))\n",
    "        inputs = torch.from_numpy(x)\n",
    "        \n",
    "        if(train_on_gpu):\n",
    "            inputs = inputs.cuda()\n",
    "        \n",
    "        # detach hidden state from history\n",
    "        h = tuple([each.data for each in h])\n",
    "        # get the output of the model\n",
    "        out, h = net(inputs, h)\n",
    "\n",
    "        # get the character probabilities\n",
    "        p = F.softmax(out, dim=1).data\n",
    "        if(train_on_gpu):\n",
    "            p = p.cpu() # move to cpu\n",
    "        \n",
    "        # get top characters\n",
    "        if top_k is None:\n",
    "            top_ch = np.arange(len(net.chars))\n",
    "        else:\n",
    "            p, top_ch = p.topk(top_k)\n",
    "            top_ch = top_ch.numpy().squeeze()\n",
    "        \n",
    "        # select the likely next character with some element of randomness\n",
    "        p = p.numpy().squeeze()\n",
    "        char = np.random.choice(top_ch, p=p/p.sum())\n",
    "        \n",
    "        # return the encoded value of the predicted char and the hidden state\n",
    "        return net.int2char[char], h"
   ]
  },
  {
   "cell_type": "markdown",
   "metadata": {},
   "source": [
    "### Priming and generating text \n",
    "\n",
    "Typically you'll want to prime the network so you can build up a hidden state. Otherwise the network will start out generating characters at random. In general the first bunch of characters will be a little rough since it hasn't built up a long history of characters to predict from."
   ]
  },
  {
   "cell_type": "code",
   "execution_count": 56,
   "metadata": {},
   "outputs": [],
   "source": [
    "def sample(net, size, prime='The', top_k=None):\n",
    "    if(train_on_gpu):\n",
    "        net.cuda()\n",
    "    else:\n",
    "        net.cpu()\n",
    "    \n",
    "    net.eval() # eval mode\n",
    "    \n",
    "    # First off, run through the prime characters\n",
    "    chars = [ch for ch in prime]\n",
    "    h = net.init_hidden(batch_size=1)\n",
    "    for ch in prime:\n",
    "        char, h = predict(net, ch, h, top_k=top_k)\n",
    "\n",
    "    chars.append(char)\n",
    "    \n",
    "    # Now pass in the previous character and get a new one\n",
    "    for ii in range(size):\n",
    "        char, h = predict(net, chars[-1], h, top_k=top_k)\n",
    "        chars.append(char)\n",
    "\n",
    "    return ''.join(chars)"
   ]
  },
  {
   "cell_type": "code",
   "execution_count": 58,
   "metadata": {},
   "outputs": [
    {
     "name": "stdout",
     "output_type": "stream",
     "text": [
      "Annats had but him, taking of the still her hand on hamperel, and this\n",
      "here allow a ceresting and would new round as to be\n",
      "to and say the pereather was to her ferest the for and hearsed there stand, and saided him\n",
      "the low, talking\n",
      "to her. Bot he had bould not have wite his same to\n",
      "breathing, and that how the latce was the mong as into her firess of hand to betther heard, and she came to a mile words his same homer order hard, and an her was\n",
      "all this how and his awan, and to as the marss, which had so live her. He humpentions of the streal he wes sonething, the porstion faricile, and the fell the childer.\n",
      "\n",
      "\"Why ther's are alone was so a sundly and the chuters, telr of the\n",
      "came of humbor,\n",
      "back of the same the searioned and artore when serest of soment was home to hore. There was that when he had and that still when that the meather,\"\n",
      "he said in the\n",
      "rair, the forten waid at the words, been\n",
      "when he had said, but she could have said of the cancess, the princess of she wined\n",
      "her and the sort of t\n"
     ]
    }
   ],
   "source": [
    "print(sample(net, 1000, prime='Anna', top_k=5))"
   ]
  },
  {
   "cell_type": "markdown",
   "metadata": {},
   "source": [
    "## Loading a checkpoint"
   ]
  },
  {
   "cell_type": "code",
   "execution_count": 59,
   "metadata": {},
   "outputs": [],
   "source": [
    "# Here we have loaded in a model that trained over 20 epochs `rnn_20_epoch.net`\n",
    "checkpoint_name = f'rnn_{n_epochs}_epoch.net'\n",
    "with open(checkpoint_name, 'rb') as f:\n",
    "    checkpoint = torch.load(f)\n",
    "    \n",
    "loaded = CharRNN(checkpoint['tokens'], n_hidden=checkpoint['n_hidden'], n_layers=checkpoint['n_layers'])\n",
    "loaded.load_state_dict(checkpoint['state_dict'])"
   ]
  },
  {
   "cell_type": "code",
   "execution_count": 62,
   "metadata": {},
   "outputs": [
    {
     "name": "stdout",
     "output_type": "stream",
     "text": [
      "And Levin said to hars, with anytowhing which, wat to to her his suntine with her. But a migut which\n",
      "she went one and stoon of him the same while she centious to see that shates of serecing and har seethell the parsit out, but had\n",
      "been, and\n",
      "his better, the stack the frees op that and his sonter and her horss, and the seating wite\n",
      "the sore.\n",
      "\n",
      "\"There's there to seemity at it. And\n",
      "he dong it to her along, but it said to bark. And he dood to be her.\n",
      "Wome that though see that\n",
      "saight in a letter were astered her has begin and handrant.\n",
      "\n",
      "How was surd of the lotely woold was a chatcently shuld on\n",
      "his wantered and has ant one of a surpacal to the man into the same that the foret of the liget of the mintrome, and his hand to the milesere, wher he\n",
      "was the same all that is was staid of stould\n",
      "have were hig tanting to has\n",
      "seing all to the parse all some of\n",
      "the long, as that wene was an one\n",
      "with streight what she well but the conserat to the parition of the prints of the comprasing of has are to her thome with this has hind her\n",
      "hat bean with her frich\n",
      "the sont of whach he had\n",
      "brows as thas\n",
      "was soment weard her to she hunging her for her was beat into the strings or the shiling had\n",
      "so hands, and the painte his hinder on his seceares of singical to\n",
      "all what shilk that still him, thene to him, with and were with a contersates who\n",
      "had to she had bound had her hands into beand.\n",
      "\n",
      "\"We that?.. His beand in a shiles and matering\n",
      "oncine.\n",
      "\n",
      "\"Why sount of a cinces and and see the masticurt.\"\n",
      "\n",
      "\"Oh that soniege of she mad his somother and\n",
      "with her to\n",
      "so the say, bats, and all that is the frient out in the conviraction. The would bret as so suching, but and with\n",
      "a\n",
      "concusaled astouted her had heart.\n",
      "\n",
      "\"Woll wat it a gricce, that that we horsile whom the perially an that in which he sould not the potite at, have in hourd been, and was is in his complacially hom and hearteress. The peasing and say the cristing and at the prince she would a sances of the calles, the moment, and she had bagked it their to be his abee\n"
     ]
    }
   ],
   "source": [
    "# Sample using a loaded model\n",
    "print(sample(loaded, 2000, top_k=5, prime=\"And Levin said\"))"
   ]
  },
  {
   "cell_type": "code",
   "execution_count": null,
   "metadata": {
    "collapsed": true
   },
   "outputs": [],
   "source": []
  }
 ],
 "metadata": {
  "kernelspec": {
   "display_name": "Python 3",
   "language": "python",
   "name": "python3"
  },
  "language_info": {
   "codemirror_mode": {
    "name": "ipython",
    "version": 3
   },
   "file_extension": ".py",
   "mimetype": "text/x-python",
   "name": "python",
   "nbconvert_exporter": "python",
   "pygments_lexer": "ipython3",
   "version": "3.7.9"
  }
 },
 "nbformat": 4,
 "nbformat_minor": 2
}
